{
 "cells": [
  {
   "cell_type": "code",
   "execution_count": null,
   "id": "78989e56",
   "metadata": {},
   "outputs": [],
   "source": [
    "# PL 01 Gonçalo Iglésias / José Silva / André Amorim\n",
    "# CESAE. Outubro 2023"
   ]
  },
  {
   "cell_type": "code",
   "execution_count": 1,
   "id": "25206fa7-7177-4810-838c-34729e1857b5",
   "metadata": {},
   "outputs": [],
   "source": [
    "from selenium import webdriver\n",
    "from selenium.webdriver.chrome.service import Service\n",
    "from selenium.webdriver.common.by import By\n",
    "from selenium.webdriver.common.keys import Keys\n",
    "from selenium.common.exceptions import ElementClickInterceptedException\n",
    "import time\n",
    "import mysql.connector"
   ]
  },
  {
   "cell_type": "code",
   "execution_count": 2,
   "id": "f27750d5-9f26-4eba-87ca-85a3a2413770",
   "metadata": {},
   "outputs": [],
   "source": [
    "service = Service()\n",
    "options = webdriver.ChromeOptions()\n",
    "options.add_experimental_option(\"detach\", True)\n",
    "options.add_experimental_option('excludeSwitches', ['enable-logging'])"
   ]
  },
  {
   "cell_type": "code",
   "execution_count": 3,
   "id": "05a7ef61-cdd3-49da-acc3-874eba1fab9f",
   "metadata": {},
   "outputs": [],
   "source": [
    "# abrir o website\n",
    "driver = webdriver.Chrome(service=service, options=options)\n",
    "driver.get('https://worten.pt/')\n",
    "time.sleep(5)"
   ]
  },
  {
   "cell_type": "code",
   "execution_count": 4,
   "id": "983d878f-4a8d-4473-813d-01509d07899d",
   "metadata": {},
   "outputs": [],
   "source": [
    "# aceitar os cookies\n",
    "acceptCookies = driver.find_element(By.XPATH, '/html/body/div[3]/div/div/div/div/section/footer/button[2]')\n",
    "acceptCookies.click()\n",
    "time.sleep(5)"
   ]
  },
  {
   "cell_type": "code",
   "execution_count": 5,
   "id": "8b13d31d-7b40-4257-ae5c-e008dab7245b",
   "metadata": {},
   "outputs": [],
   "source": [
    "# encontrar a caixa de pesquisa\n",
    "searchBar = driver.find_element(By.NAME, 'query')"
   ]
  },
  {
   "cell_type": "code",
   "execution_count": 6,
   "id": "a7bcb9e5-8705-4256-b557-baedde211508",
   "metadata": {},
   "outputs": [],
   "source": [
    "# pesquisar por iphone 15\n",
    "searchBar.send_keys(\"iphone 15\")\n",
    "searchBar.send_keys(Keys.ENTER)\n",
    "time.sleep(5)"
   ]
  },
  {
   "cell_type": "code",
   "execution_count": 7,
   "id": "256d457b-e86f-4e50-a565-0ac6ee47e296",
   "metadata": {},
   "outputs": [],
   "source": [
    "# filtrar resultados de pesquisa para obter apenas Telemóveis e Smartphones > iPhone\n",
    "checkIphoneBox = driver.find_element(By.XPATH, '//*[@id=\"accordion__content-_cc2\"]/div/div/ul/li[1]/ul/li/div/label')\n",
    "checkIphoneBox.click()"
   ]
  },
  {
   "cell_type": "code",
   "execution_count": 8,
   "id": "40941562",
   "metadata": {},
   "outputs": [],
   "source": [
    "# funções para extrair os dados dos iphone 15 e variáveis globais necessárias para correr as funções\n",
    "def getProductImage():\n",
    "  imgGrid = driver.find_elements(By.CSS_SELECTOR, 'header.product-card__header figure.product-card__image-link img')\n",
    "  for img in imgGrid:\n",
    "    productImageList.append(img.get_attribute('src'))\n",
    "  return productImageList\n",
    "\n",
    "def getProductURL():\n",
    "  urlGrid = driver.find_elements(By.CSS_SELECTOR, 'div.product-card--grid-container a')\n",
    "  excludingSuggestionsUrl = [url for url in urlGrid if url.get_attribute(\"class\") != \"related-cards__card\"]\n",
    "  for url in excludingSuggestionsUrl:\n",
    "    productUrlList.append(url.get_attribute('href'))\n",
    "  return productUrlList\n",
    "\n",
    "def getProductName():\n",
    "  nameGrid = driver.find_elements(By.CLASS_NAME, 'produc-card__name__link')\n",
    "  for name in nameGrid:\n",
    "    productNameList.append(name.text)\n",
    "  return productNameList\n",
    "\n",
    "def getProductPrice():\n",
    "  priceGrid = driver.find_elements(By.CSS_SELECTOR, 'div.product-card--grid-container span.value')\n",
    "  excludingSuggestionsPrice = [price for price in priceGrid if price.get_attribute(\"class\") != \"related-cards__card\"]\n",
    "  for price in excludingSuggestionsPrice:\n",
    "    productPriceList.append(price.text)\n",
    "  return productPriceList\n",
    "\n",
    "productImageList = [] \n",
    "productUrlList = []\n",
    "productNameList = []\n",
    "productPriceList = []\n",
    "\n",
    "# navega no website e faz o scrape da informação das páginas de resultados\n",
    "while True:\n",
    "  try:\n",
    "    productImageList = getProductImage() \n",
    "    productUrlList = getProductURL()\n",
    "    productNameList = getProductName()\n",
    "    productPriceList = getProductPrice()\n",
    "    # passa para a página seguinte\n",
    "    nextPage = driver.find_element(By.XPATH, '//*[@id=\"filtered-grid\"]/div/div/section/div/div[1]/div[2]/div/div/ul[1]/li[2]/a')\n",
    "    nextPage.click() \n",
    "    # exceção assegura que se sai do while loop quando o botão existe mas está com status = disabled\n",
    "  except ElementClickInterceptedException:\n",
    "        break"
   ]
  },
  {
   "cell_type": "code",
   "execution_count": 9,
   "id": "309d2914",
   "metadata": {},
   "outputs": [],
   "source": [
    "# adicionar os resultados obtidos a uma lista de dicionários com as chaves: image, url, name, price\n",
    "def addPhonestoList():\n",
    "  for i in range(len(productImageList)):\n",
    "    iphone = {\n",
    "      \"image\": productImageList[i],\n",
    "      \"url\": productUrlList[i],\n",
    "      \"name\": productNameList[i],\n",
    "      \"price\": productPriceList[i]\n",
    "    }\n",
    "    iphonesList.append(iphone)\n",
    "  return iphonesList\n",
    "\n",
    "iphonesList = []\n",
    "iphonesList = addPhonestoList()"
   ]
  },
  {
   "cell_type": "code",
   "execution_count": null,
   "id": "3a663071",
   "metadata": {},
   "outputs": [],
   "source": [
    "# converter o preço de string para float, para ser possível guardar na BD\n",
    "def convertPrice(iphonesList):\n",
    "    for phone in iphonesList:\n",
    "        phone[\"price\"] = phone[\"price\"].replace(\",\",\".\")\n",
    "        phone['price'] = float(phone['price'])\n",
    "    return iphonesList\n",
    "\n",
    "iphonesList = convertPrice(iphonesList)"
   ]
  },
  {
   "cell_type": "code",
   "execution_count": 23,
   "id": "8c49820f",
   "metadata": {},
   "outputs": [],
   "source": [
    "# ligar ao servidor MySQL\n",
    "conn = mysql.connector.connect(user = 'root', host = 'localhost', autocommit=True)\n",
    "# cursor para executar comandos na BD\n",
    "cursorObject = conn.cursor()\n",
    "# criar a base de dados com o nome wortendb\n",
    "cursorObject.execute(\"CREATE DATABASE IF NOT EXISTS wortendb\")\n",
    "# usar a base de dados wortendb\n",
    "cursorObject.execute(\"USE wortendb\")\n",
    "# criar a tabela iphones\n",
    "cursorObject.execute('''\n",
    "    CREATE TABLE IF NOT EXISTS iphones (id INT NOT NULL AUTO_INCREMENT, \n",
    "    image VARCHAR(255) NOT NULL, \n",
    "    url VARCHAR(255) NOT NULL, \n",
    "    name VARCHAR(255) NOT NULL,\n",
    "    price DECIMAL(10,2) NOT NULL, \n",
    "    PRIMARY KEY (id))\n",
    "    ''')\n",
    "\n",
    "# criar uma lista de listas para adicionar os valores à base de dados wortendb\n",
    "values = []\n",
    "for iphone in iphonesList:\n",
    "  iphoneData = [iphone[\"image\"], iphone[\"url\"], iphone[\"name\"], iphone[\"price\"]]\n",
    "  values.append(iphoneData)\n",
    "\n",
    "# usar o executemany para inserir de uma só vez todos os elementos da lista values (usa menos memória)\n",
    "write = \"INSERT INTO iphones (image, url, name, price) VALUES (%s, %s, %s, %s)\"\n",
    "cursorObject.executemany(write, values)\n",
    "  \n",
    "# encerrar a ligação ao servidor MySQL\n",
    "conn.close()"
   ]
  }
 ],
 "metadata": {
  "kernelspec": {
   "display_name": "Python 3 (ipykernel)",
   "language": "python",
   "name": "python3"
  },
  "language_info": {
   "codemirror_mode": {
    "name": "ipython",
    "version": 3
   },
   "file_extension": ".py",
   "mimetype": "text/x-python",
   "name": "python",
   "nbconvert_exporter": "python",
   "pygments_lexer": "ipython3",
   "version": "3.11.2"
  }
 },
 "nbformat": 4,
 "nbformat_minor": 5
}
